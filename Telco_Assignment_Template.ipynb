{
  "metadata": {
    "kernelspec": {
      "language": "python",
      "display_name": "Python 3",
      "name": "python3"
    },
    "language_info": {
      "pygments_lexer": "ipython3",
      "nbconvert_exporter": "python",
      "version": "3.6.4",
      "file_extension": ".py",
      "codemirror_mode": {
        "name": "ipython",
        "version": 3
      },
      "name": "python",
      "mimetype": "text/x-python"
    },
    "colab": {
      "provenance": [],
      "include_colab_link": true
    }
  },
  "nbformat_minor": 0,
  "nbformat": 4,
  "cells": [
    {
      "cell_type": "markdown",
      "metadata": {
        "id": "view-in-github",
        "colab_type": "text"
      },
      "source": [
        "<a href=\"https://colab.research.google.com/github/ttogun/telco-churn-analysis/blob/main/Telco_Assignment_Template.ipynb\" target=\"_parent\"><img src=\"https://colab.research.google.com/assets/colab-badge.svg\" alt=\"Open In Colab\"/></a>"
      ]
    },
    {
      "cell_type": "markdown",
      "source": [
        "# <h1 style=\"font-family: Trebuchet MS; padding: 20px; font-size: 40px; color: #2D2926; text-align: center; line-height: 0.55;background-color: #E94B3C\"><b>Telco Customer Churn Classification</b><br></h1>"
      ],
      "metadata": {
        "id": "HYNA7418omnN"
      }
    },
    {
      "cell_type": "markdown",
      "source": [
        "<center>\n",
        "    <img src=\"https://usercontent.one/wp/www.alltopeverything.com/wp-content/uploads/2021/08/telecommunications-3840285_1280.jpg?media=1659724391\" alt=\"Telco Customer Churn\" width=\"50%\">\n",
        "</center>\n",
        "\n",
        "### **Problem Statement:**\n",
        "\n",
        "In the telecom industry, customers are able to choose from a pool of companies to cater their needs regarding communication and internet. Customers are very critical about the kind of services they receive and judge the enitre company based on a single experience! These communication services have become so recurrent and inseparable from the daily routine that a 30 minute maintenance break kicks in anxiety in the users highlighting our taken-for-granted attitude towards these services! Coupled with high customer acquisation costs, churn analysis becomes very pivotal! Churn rate is a metric that describes the number of customers that cancelled or did not renew their subscription with the company. Thus, higher the churn rate, more customers stop buying from your business, directly affecting the revenue! Hence, based on the insights gained from the churn analysis, companies can build strategies, target segments, improve the quality of the services being provided to improve the customer experience, thus cultivating trust with the customers. That is why building predictive models and creating reports of churn analysis becomes key that paves the way for growth!\n",
        "\n",
        "### **Objectives:**\n",
        "- To classify the potential churn customers based on numerical and categorical features.\n",
        "- Develop a **binary classification** model.\n",
        "- Implement strategies to handle class imbalance (if it will improve model performance)\n",
        "- Analyze the impact of hyperparameters on model performance.\n",
        "- Incorporate preprocessing and feature engineering techniques to enhance model performance.\n",
        "\n"
      ],
      "metadata": {
        "id": "17GrskjdomnN"
      }
    },
    {
      "cell_type": "markdown",
      "source": [
        "### **Expected Notebook Contents:**\n",
        "- Exploratory Data Analysis (EDA)\n",
        "- Summary of EDA\n",
        "- Feature Engineering (and Selection if possible)\n",
        "- Imbalance Handling\n",
        "- Modeling and Hyper-Parameter Tuning.\n",
        "- Experiment tracking with Mlflow.\n",
        "- Conclusion\n",
        "\n",
        "\n",
        "\n",
        "### Lets get started!"
      ],
      "metadata": {
        "id": "757tkZG_omnO"
      }
    },
    {
      "cell_type": "markdown",
      "source": [
        "\n",
        "### **Dataset Attributes**\n",
        "    \n",
        "- **customerID** : Customer ID\n",
        "- **gender** : Whether the customer is a male or a female\n",
        "- **SeniorCitizen** : Whether the customer is a senior citizen or not (1, 0)\n",
        "- **Partner** : Whether the customer has a partner or not (Yes, No)\n",
        "- **Dependents** : Whether the customer has dependents or not (Yes, No)\n",
        "- **tenure** : Number of months the customer has stayed with the company\n",
        "- **PhoneService** : Whether the customer has a phone service or not (Yes, No)\n",
        "- **MultipleLines** : Whether the customer has multiple lines or not (Yes, No, No phone service)\n",
        "- **InternetService** : Customer’s internet service provider (DSL, Fiber optic, No)\n",
        "- **OnlineSecurity** : Whether the customer has online security or not (Yes, No, No internet service)\n",
        "- **OnlineBackup** : Whether the customer has online backup or not (Yes, No, No internet service)\n",
        "- **DeviceProtection** : Whether the customer has device protection or not (Yes, No, No internet service)\n",
        "- **TechSupport** : Whether the customer has tech support or not (Yes, No, No internet service)\n",
        "- **StreamingTV** : Whether the customer has streaming TV or not (Yes, No, No internet service)\n",
        "- **StreamingMovies** : Whether the customer has streaming movies or not (Yes, No, No internet service)\n",
        "- **Contract** : The contract term of the customer (Month-to-month, One year, Two year)\n",
        "- **PaperlessBilling** : Whether the customer has paperless billing or not (Yes, No)\n",
        "- **PaymentMethod** : The customer’s payment method (Electronic check, Mailed check, Bank transfer (automatic), Credit card (automatic))\n",
        "- **MonthlyCharges** : The amount charged to the customer monthly\n",
        "- **TotalCharges** : The total amount charged to the customer\n",
        "- **Churn** : Whether the customer churned or not (Yes or No)"
      ],
      "metadata": {
        "id": "ZxcpDTxGomnO"
      }
    },
    {
      "cell_type": "markdown",
      "source": [
        "## **Load the Dataset**\n",
        "\n",
        "**To begin with, we will mount our drive.**"
      ],
      "metadata": {
        "id": "ek14Z6H35sfE"
      }
    },
    {
      "cell_type": "code",
      "source": [
        "from google.colab import drive\n",
        "drive.mount('/content/drive')"
      ],
      "metadata": {
        "id": "xxI3mRtlMMZf"
      },
      "execution_count": null,
      "outputs": []
    },
    {
      "cell_type": "markdown",
      "source": [
        "**Ensure that you place a shortcut to the datasets folder in your drive.**"
      ],
      "metadata": {
        "id": "wiJXGtpUYqio"
      }
    },
    {
      "cell_type": "code",
      "source": [
        "import os\n",
        "os.chdir(\"/content/drive/MyDrive/datasets/\")"
      ],
      "metadata": {
        "id": "WuSdSAgBYqBC"
      },
      "execution_count": null,
      "outputs": []
    },
    {
      "cell_type": "markdown",
      "source": [
        "Now let's proceed to load the datasets of interest"
      ],
      "metadata": {
        "id": "dnDHu-Ooy7AK"
      }
    },
    {
      "cell_type": "markdown",
      "source": [
        "### Import the Necessary Libraries :"
      ],
      "metadata": {
        "id": "lXR15XNBomnO"
      }
    },
    {
      "cell_type": "code",
      "source": [
        "import pandas as pd\n",
        "import numpy as np\n",
        "import matplotlib.pyplot as plt\n",
        "%matplotlib inline\n",
        "import seaborn as sns\n",
        "pd.options.display.float_format = '{:.2f}'.format\n",
        "import warnings\n",
        "warnings.filterwarnings('ignore')"
      ],
      "metadata": {
        "execution": {
          "iopub.status.busy": "2022-09-30T17:42:54.996365Z",
          "iopub.execute_input": "2022-09-30T17:42:54.99721Z",
          "iopub.status.idle": "2022-09-30T17:42:56.118579Z",
          "shell.execute_reply.started": "2022-09-30T17:42:54.997111Z",
          "shell.execute_reply": "2022-09-30T17:42:56.117708Z"
        },
        "trusted": true,
        "id": "Id_40SsgomnP"
      },
      "execution_count": null,
      "outputs": []
    },
    {
      "cell_type": "code",
      "source": [
        "data = pd.read_csv('Telco_churn.csv')\n",
        "data.head()"
      ],
      "metadata": {
        "scrolled": true,
        "execution": {
          "iopub.status.busy": "2022-09-30T17:42:56.120256Z",
          "iopub.execute_input": "2022-09-30T17:42:56.120805Z",
          "iopub.status.idle": "2022-09-30T17:42:56.219259Z",
          "shell.execute_reply.started": "2022-09-30T17:42:56.120772Z",
          "shell.execute_reply": "2022-09-30T17:42:56.218085Z"
        },
        "trusted": true,
        "id": "KX8ON-_zomnP"
      },
      "execution_count": null,
      "outputs": []
    },
    {
      "cell_type": "markdown",
      "source": [
        "*Your Analysis*"
      ],
      "metadata": {
        "id": "231MJcVxq-II"
      }
    },
    {
      "cell_type": "code",
      "source": [],
      "metadata": {
        "id": "2K1RfiZXrBhk"
      },
      "execution_count": null,
      "outputs": []
    }
  ]
}